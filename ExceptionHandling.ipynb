{
 "cells": [
  {
   "cell_type": "code",
   "execution_count": 7,
   "id": "7b8ab826-0864-49b9-9a40-d8a1b2c6b89d",
   "metadata": {},
   "outputs": [
    {
     "name": "stdout",
     "output_type": "stream",
     "text": [
      "b\n"
     ]
    }
   ],
   "source": [
    "a =10\n",
    "if a > 10:\n",
    "    print('A')\n",
    "else:\n",
    "    print('b')\n"
   ]
  },
  {
   "cell_type": "code",
   "execution_count": 9,
   "id": "cda7e7dc-6875-4076-9e3a-579fc3f169bc",
   "metadata": {},
   "outputs": [
    {
     "name": "stdout",
     "output_type": "stream",
     "text": [
      "20\n"
     ]
    }
   ],
   "source": [
    "a =20\n",
    "if a > 10:\n",
    "    print(a)\n",
    "else:\n",
    "    print('b')"
   ]
  },
  {
   "cell_type": "code",
   "execution_count": 13,
   "id": "931aa126-af0a-4b89-a885-467bf38fe98b",
   "metadata": {},
   "outputs": [
    {
     "name": "stdin",
     "output_type": "stream",
     "text": [
      "Enter Num1 10\n",
      "Enter Num2 2\n"
     ]
    },
    {
     "ename": "TypeError",
     "evalue": "unsupported operand type(s) for +: 'int' and 'str'",
     "output_type": "error",
     "traceback": [
      "\u001b[31m---------------------------------------------------------------------------\u001b[39m",
      "\u001b[31mTypeError\u001b[39m                                 Traceback (most recent call last)",
      "\u001b[36mCell\u001b[39m\u001b[36m \u001b[39m\u001b[32mIn[13]\u001b[39m\u001b[32m, line 3\u001b[39m\n\u001b[32m      1\u001b[39m num1 = \u001b[38;5;28mint\u001b[39m(\u001b[38;5;28minput\u001b[39m(\u001b[33m\"\u001b[39m\u001b[33mEnter Num1\u001b[39m\u001b[33m\"\u001b[39m))\n\u001b[32m      2\u001b[39m num2 = \u001b[38;5;28minput\u001b[39m(\u001b[33m\"\u001b[39m\u001b[33mEnter Num2\u001b[39m\u001b[33m\"\u001b[39m)\n\u001b[32m----> \u001b[39m\u001b[32m3\u001b[39m result = \u001b[43mnum1\u001b[49m\u001b[43m+\u001b[49m\u001b[43mnum2\u001b[49m\n",
      "\u001b[31mTypeError\u001b[39m: unsupported operand type(s) for +: 'int' and 'str'"
     ]
    }
   ],
   "source": [
    "num1 = int(input(\"Enter Num1\"))\n",
    "num2 = input(\"Enter Num2\")\n",
    "result = num1+num2\n",
    "           "
   ]
  },
  {
   "cell_type": "code",
   "execution_count": 16,
   "id": "67e4704d-71c7-40d6-9991-176146280004",
   "metadata": {},
   "outputs": [
    {
     "name": "stdin",
     "output_type": "stream",
     "text": [
      "Enter Num1 10\n",
      "Enter Num2 a\n"
     ]
    },
    {
     "name": "stdout",
     "output_type": "stream",
     "text": [
      "Error Occord invalid literal for int() with base 10: 'a'\n"
     ]
    }
   ],
   "source": [
    "try:\n",
    "    num1 = int(input(\"Enter Num1\"))\n",
    "    num2 = int(input(\"Enter Num2\"))\n",
    "    result =num1/num2\n",
    "    print(result)\n",
    "except Exception as e:\n",
    "    print(f\"Error Occord {e}\")"
   ]
  },
  {
   "cell_type": "code",
   "execution_count": 17,
   "id": "49b35b5f-3eed-422c-88ac-b5825dbdadc7",
   "metadata": {},
   "outputs": [
    {
     "name": "stdin",
     "output_type": "stream",
     "text": [
      "Enter Number1 10\n",
      "Enter Number 2 2\n"
     ]
    },
    {
     "name": "stdout",
     "output_type": "stream",
     "text": [
      "5.0\n"
     ]
    }
   ],
   "source": [
    "try:\n",
    "    num1 = int(input(\"Enter Number1\"))\n",
    "    num2 =int(input(\"Enter Number 2\"))\n",
    "    result = num1/num2\n",
    "    print(result)\n",
    "except ZeroDivisionError as e :\n",
    "    print(f\"Error occored {e}\")\n",
    "    \n"
   ]
  },
  {
   "cell_type": "code",
   "execution_count": 18,
   "id": "be9de4ac-3447-4db3-b358-c4741ac8d02b",
   "metadata": {},
   "outputs": [
    {
     "name": "stdout",
     "output_type": "stream",
     "text": [
      "Error Occored can only concatenate str (not \"int\") to str\n"
     ]
    }
   ],
   "source": [
    "try:\n",
    "    print(\"score\" + 100)   \n",
    "except TypeError as e:\n",
    "    print(\"Error Occored\", e)"
   ]
  },
  {
   "cell_type": "code",
   "execution_count": 22,
   "id": "caeedb14-5bff-41b9-8b3e-37e7e2c47f74",
   "metadata": {},
   "outputs": [
    {
     "name": "stdin",
     "output_type": "stream",
     "text": [
      "Enter Number a\n"
     ]
    },
    {
     "name": "stdout",
     "output_type": "stream",
     "text": [
      "error occored invalid literal for int() with base 10: 'a'\n"
     ]
    }
   ],
   "source": [
    "import math\n",
    "try:\n",
    "    num1=int(input(\"Enter Number\"))\n",
    "    #result =math.sqrt(num1)\n",
    "    print(f\"Sqrt of  {num1} is {result}\")\n",
    "except ValueError as e:\n",
    "    print(f\"error occored {e}\")"
   ]
  },
  {
   "cell_type": "code",
   "execution_count": 23,
   "id": "66bd80cb-a1a5-409f-8ea0-f106731c1032",
   "metadata": {},
   "outputs": [
    {
     "ename": "NameError",
     "evalue": "name 'xyz' is not defined",
     "output_type": "error",
     "traceback": [
      "\u001b[31m---------------------------------------------------------------------------\u001b[39m",
      "\u001b[31mNameError\u001b[39m                                 Traceback (most recent call last)",
      "\u001b[36mCell\u001b[39m\u001b[36m \u001b[39m\u001b[32mIn[23]\u001b[39m\u001b[32m, line 1\u001b[39m\n\u001b[32m----> \u001b[39m\u001b[32m1\u001b[39m \u001b[38;5;28mprint\u001b[39m(\u001b[43mxyz\u001b[49m)\n",
      "\u001b[31mNameError\u001b[39m: name 'xyz' is not defined"
     ]
    }
   ],
   "source": [
    "print(xyz)"
   ]
  },
  {
   "cell_type": "code",
   "execution_count": 33,
   "id": "fcc75bf5-94e0-439a-a627-9a8a1763a8ed",
   "metadata": {},
   "outputs": [
    {
     "name": "stdout",
     "output_type": "stream",
     "text": [
      "10\n",
      "zero divison\n"
     ]
    }
   ],
   "source": [
    "try:\n",
    "    num=10\n",
    "    print(num)\n",
    "\n",
    "    print(10/0)\n",
    "\n",
    "  \n",
    "except NameError as e:\n",
    "    print(f\"Error occoredd {e}\")\n",
    "except ZeroDivisionError as e :\n",
    "    print(f\"zero divison\")\n",
    "except Exception as e:\n",
    "    print(\"error\", e)  \n",
    "else:\n",
    "    print(\"No errors occord\")\n"
   ]
  },
  {
   "cell_type": "code",
   "execution_count": 35,
   "id": "3eb168a8-15ac-408b-b930-eb51849ff401",
   "metadata": {},
   "outputs": [
    {
     "name": "stdin",
     "output_type": "stream",
     "text": [
      "Enter List index from 0 to 3 to get list element 10\n"
     ]
    },
    {
     "name": "stdout",
     "output_type": "stream",
     "text": [
      "Errot occored list index out of range\n"
     ]
    }
   ],
   "source": [
    "try:\n",
    "    lst=[10,20,30,40]\n",
    "    ind = int(input(\"Enter List index from 0 to 3 to get list element\"))\n",
    "    print(lst[ind])\n",
    "except IndexError as e:\n",
    "    print(f\"Errot occored {e}\")"
   ]
  },
  {
   "cell_type": "code",
   "execution_count": 36,
   "id": "9158abcc-9425-49b6-8541-889ed736bb7f",
   "metadata": {},
   "outputs": [
    {
     "name": "stdout",
     "output_type": "stream",
     "text": [
      " File not found: [Errno 2] No such file or directory: 'nonexistent_file.txt'\n"
     ]
    }
   ],
   "source": [
    "try:\n",
    "    f = open(\"nonexistent_file.txt\", \"r\")   # file is not there\n",
    "    print(f.read())\n",
    "    f.close()\n",
    "except FileNotFoundError as e:\n",
    "    print(\" File not found:\", e)"
   ]
  },
  {
   "cell_type": "code",
   "execution_count": 40,
   "id": "89c10466-ce5f-4216-a158-2fefa4002526",
   "metadata": {},
   "outputs": [
    {
     "name": "stdout",
     "output_type": "stream",
     "text": [
      "error occored not writable\n"
     ]
    }
   ],
   "source": [
    "try:\n",
    "    with open('c:/data/snowflake.py','r') as f:\n",
    "        f.write(\"Hello\")\n",
    "except IOError as e:\n",
    "    print(f\"error occored {e}\")"
   ]
  },
  {
   "cell_type": "code",
   "execution_count": 36,
   "id": "e7171584-184f-47af-b998-16f150b1f93e",
   "metadata": {},
   "outputs": [
    {
     "name": "stdin",
     "output_type": "stream",
     "text": [
      "Enter Your Number 1 10\n",
      "Enter Your Number 2 2\n"
     ]
    },
    {
     "name": "stdout",
     "output_type": "stream",
     "text": [
      "5.0\n",
      "No error occored in your program\n"
     ]
    }
   ],
   "source": [
    "try:\n",
    "    num1 = int(input(\"Enter Your Number 1\"))\n",
    "    num2 = int(input(\"Enter Your Number 2\"))\n",
    "    result = num1/num2\n",
    "    print(result)\n",
    "except ValueError as e:\n",
    "    print(f\"Error Occored {e}\")    \n",
    "except ZeroDivisionError as e:\n",
    "    print(f\"Error Occored {e}\")\n",
    "else:\n",
    "    print(\"No error occored in your program\")\n"
   ]
  },
  {
   "cell_type": "code",
   "execution_count": 4,
   "id": "31e2cd42-92a0-463e-88f3-f2a4afe23c26",
   "metadata": {},
   "outputs": [
    {
     "name": "stdin",
     "output_type": "stream",
     "text": [
      "Enter Number1 10\n",
      "Enter Number2 0\n"
     ]
    },
    {
     "name": "stdout",
     "output_type": "stream",
     "text": [
      "Arithmetic Exception occurred: division by zero\n"
     ]
    }
   ],
   "source": [
    "try:\n",
    "    a = int(input(\"Enter Number1\"))\n",
    "    b = int(input(\"Enter Number2\"))\n",
    "    result = a / b\n",
    "    print(\"Result:\", result)\n",
    "except ZeroDivisionError as e:\n",
    "    print(\"Arithmetic Exception occurred:\", e)\n"
   ]
  },
  {
   "cell_type": "code",
   "execution_count": null,
   "id": "a629f14a-941b-422d-bc29-3ecd4a960c95",
   "metadata": {},
   "outputs": [],
   "source": []
  },
  {
   "cell_type": "code",
   "execution_count": 5,
   "id": "82f5a017-e19f-4a2b-ab00-4beec69557ea",
   "metadata": {},
   "outputs": [
    {
     "name": "stdout",
     "output_type": "stream",
     "text": [
      "Caught an exception: integer modulo by zero\n"
     ]
    }
   ],
   "source": [
    "try:\n",
    "    x = 10 % 0\n",
    "except ZeroDivisionError as e:\n",
    "    print(\"Caught an exception:\", e)\n"
   ]
  },
  {
   "cell_type": "code",
   "execution_count": 6,
   "id": "7f394f4e-3a4f-4d87-a843-98b03e3ae510",
   "metadata": {},
   "outputs": [
    {
     "name": "stdin",
     "output_type": "stream",
     "text": [
      "Enter Number of your choice? abc\n"
     ]
    },
    {
     "name": "stdout",
     "output_type": "stream",
     "text": [
      "invalid literal for int() with base 10: 'abc' occured\n"
     ]
    }
   ],
   "source": [
    "try:\n",
    "    num1 = int(input(\"Enter Number of your choice?\"))\n",
    "    print(f\"You Entered Number {num1}\")\n",
    "except ValueError as e:\n",
    "    print(f\"{e} occured\")"
   ]
  },
  {
   "cell_type": "code",
   "execution_count": 9,
   "id": "fdb22973-31ce-4226-92fc-af1bb7c441cc",
   "metadata": {},
   "outputs": [
    {
     "name": "stdin",
     "output_type": "stream",
     "text": [
      "Enter Number of your choice? -1\n"
     ]
    },
    {
     "name": "stdout",
     "output_type": "stream",
     "text": [
      "math domain error occured\n"
     ]
    }
   ],
   "source": [
    "import math\n",
    "try:\n",
    "    num1 = int(input(\"Enter Number of your choice?\"))\n",
    "    print(f\"You Entered Number {math.sqrt(num1)}\")\n",
    "except ValueError as e:\n",
    "    print(f\"{e} occured\")\n",
    "    "
   ]
  },
  {
   "cell_type": "code",
   "execution_count": 2,
   "id": "375d7677-87f0-4523-9ba0-78bb0c95e2fc",
   "metadata": {},
   "outputs": [
    {
     "name": "stdout",
     "output_type": "stream",
     "text": [
      "name 'num1' is not defined\n"
     ]
    }
   ],
   "source": [
    "try:\n",
    "    print(num1)\n",
    "except NameError as e:\n",
    "    print(e)"
   ]
  },
  {
   "cell_type": "code",
   "execution_count": 11,
   "id": "b6a44125-cf54-447e-b851-475b0632e7b6",
   "metadata": {},
   "outputs": [
    {
     "name": "stdout",
     "output_type": "stream",
     "text": [
      "IndexError occurred: list index out of range\n"
     ]
    }
   ],
   "source": [
    "try:\n",
    "    my_list = [10, 20, 30]\n",
    "    print(my_list[5]) \n",
    "except IndexError as e:\n",
    "    print(\"IndexError occurred:\", e)"
   ]
  },
  {
   "cell_type": "code",
   "execution_count": 3,
   "id": "bc8a5605-8d92-43a3-b3f3-df31ae4aa585",
   "metadata": {},
   "outputs": [
    {
     "name": "stdout",
     "output_type": "stream",
     "text": [
      "IOError occurred: [Errno 2] No such file or directory: 'sample.txt'\n"
     ]
    }
   ],
   "source": [
    "try:\n",
    "    with open(\"sample.txt\", \"r\") as file:\n",
    "        data = file.read()\n",
    "except IOError as e:\n",
    "    print(\"IOError occurred:\", e)"
   ]
  },
  {
   "cell_type": "code",
   "execution_count": 4,
   "id": "1f20c12f-a06d-46c8-af6c-b6f28b50bc55",
   "metadata": {},
   "outputs": [
    {
     "name": "stdout",
     "output_type": "stream",
     "text": [
      "IOError occurred: not writable\n"
     ]
    }
   ],
   "source": [
    "try:\n",
    "    with open(\"c:/Python_Challenge/emp.csv\" ,\"r\") as file:\n",
    "        file.write(\"Hello how are you\")\n",
    "except IOError as e:\n",
    "    print(\"IOError occurred:\", e)"
   ]
  },
  {
   "cell_type": "code",
   "execution_count": 8,
   "id": "0a9d9e46-d3d2-4c1f-ab57-2b0edf5ebce2",
   "metadata": {},
   "outputs": [
    {
     "name": "stdin",
     "output_type": "stream",
     "text": [
      "Enter a number:  2\n"
     ]
    },
    {
     "name": "stdout",
     "output_type": "stream",
     "text": [
      "Result: 5.0\n",
      "Every thing went well\n"
     ]
    }
   ],
   "source": [
    "try:\n",
    "    num = int(input(\"Enter a number: \"))\n",
    "    result = 10 / num\n",
    "    print(\"Result:\", result)\n",
    "except ValueError as e:\n",
    "    print(\"Invalid input. Please enter a number:\", e)\n",
    "except Exception as e:\n",
    "    print(\"Cannot divide by zero:\", e)\n",
    "else:\n",
    "    print(\"Every thing went well\")\n"
   ]
  },
  {
   "cell_type": "code",
   "execution_count": 42,
   "id": "9de1549b-c510-4e7f-ac56-71ca90653c8d",
   "metadata": {},
   "outputs": [
    {
     "name": "stdout",
     "output_type": "stream",
     "text": [
      "not writable\n",
      "File Colsed\n"
     ]
    }
   ],
   "source": [
    "try:\n",
    "    file=open('welcome.txt','r')\n",
    "    file.write(\"hello how are you\")\n",
    "except IOError as e:\n",
    "    print(e)\n",
    "finally:\n",
    "    file.close()\n",
    "    print(\"File Colsed\")\n",
    "    \n",
    "\n",
    "    "
   ]
  },
  {
   "cell_type": "code",
   "execution_count": null,
   "id": "01fa1d49-602c-487f-ab7d-ad8d5d579358",
   "metadata": {},
   "outputs": [],
   "source": []
  },
  {
   "cell_type": "code",
   "execution_count": 23,
   "id": "3338944e-379e-4968-9a7a-fcb04285c866",
   "metadata": {},
   "outputs": [
    {
     "name": "stdin",
     "output_type": "stream",
     "text": [
      "Enter a number:  a\n"
     ]
    },
    {
     "name": "stdout",
     "output_type": "stream",
     "text": [
      "That's not a valid number!\n"
     ]
    }
   ],
   "source": [
    "try:\n",
    "    num = int(input(\"Enter a number: \"))\n",
    "except ValueError:\n",
    "    print(\"That's not a valid number!\")\n",
    "else:\n",
    "    print(f\"Great! You entered: {num}\")\n"
   ]
  },
  {
   "cell_type": "code",
   "execution_count": 24,
   "id": "33853eac-6a39-4d93-8204-78c3db61df91",
   "metadata": {},
   "outputs": [
    {
     "name": "stdout",
     "output_type": "stream",
     "text": [
      "File closed.\n"
     ]
    }
   ],
   "source": [
    "try:\n",
    "    f = open(\"myfile.txt\", \"w\")\n",
    "    f.write(\"Hello, file!\")\n",
    "except IOError as e:\n",
    "    print(\"File error:\", e)\n",
    "finally:\n",
    "    f.close()\n",
    "    print(\"File closed.\")\n"
   ]
  },
  {
   "cell_type": "code",
   "execution_count": 44,
   "id": "5debea2f-7844-4bfb-b4ed-a76800eed4f7",
   "metadata": {},
   "outputs": [
    {
     "name": "stdin",
     "output_type": "stream",
     "text": [
      "Enter your age:  8\n"
     ]
    },
    {
     "name": "stdout",
     "output_type": "stream",
     "text": [
      "Custom Exception: \n"
     ]
    }
   ],
   "source": [
    "class AgeTooSmallError(Exception):\n",
    "     pass\n",
    "try:\n",
    "    age = int(input(\"Enter your age: \"))\n",
    "    if age < 18:\n",
    "        raise AgeTooSmallError()\n",
    "    print(\"Access granted.\")\n",
    "except AgeTooSmallError as e:\n",
    "    print(\"Custom Exception:\", e)\n",
    "except ValueError:\n",
    "    print(\"Please enter a valid number.\")\n"
   ]
  },
  {
   "cell_type": "code",
   "execution_count": 49,
   "id": "2f0dd351-97c4-4624-a108-0ffb684eba9a",
   "metadata": {},
   "outputs": [
    {
     "name": "stdout",
     "output_type": "stream",
     "text": [
      "Bank Error: 100 insuffecient balance\n"
     ]
    }
   ],
   "source": [
    "class BalanceTooLowError(Exception):\n",
    "    def __init__(self, balance, message=\"Balance is too low\"):\n",
    "        self.balance = balance\n",
    "        self.message = message\n",
    "        super().__init__(str(balance)+' '+message)\n",
    "try:\n",
    "    balance = 100\n",
    "    if balance < 500:\n",
    "        raise BalanceTooLowError(balance,\"insuffecient balance\")       \n",
    "except BalanceTooLowError as e:\n",
    "    print(\"Bank Error:\", e)\n"
   ]
  },
  {
   "cell_type": "code",
   "execution_count": 47,
   "id": "64ca622a-1977-4a50-b3f3-b83257ccf9a8",
   "metadata": {},
   "outputs": [
    {
     "name": "stdout",
     "output_type": "stream",
     "text": [
      "file colsed\n"
     ]
    }
   ],
   "source": [
    "try:\n",
    "    file = open('c:/python_challenge/emp.csv','w')\n",
    "    file.write(\"hello\")\n",
    "except IOError as e:\n",
    "    print(\"Error occored\",e)\n",
    "finally:\n",
    "    file.close()\n",
    "    print(\"file colsed\")\n",
    "    "
   ]
  },
  {
   "cell_type": "code",
   "execution_count": null,
   "id": "bc442032-98af-420e-9717-f1d991e315b3",
   "metadata": {},
   "outputs": [],
   "source": []
  }
 ],
 "metadata": {
  "kernelspec": {
   "display_name": "Python 3 (ipykernel)",
   "language": "python",
   "name": "python3"
  },
  "language_info": {
   "codemirror_mode": {
    "name": "ipython",
    "version": 3
   },
   "file_extension": ".py",
   "mimetype": "text/x-python",
   "name": "python",
   "nbconvert_exporter": "python",
   "pygments_lexer": "ipython3",
   "version": "3.11.0"
  }
 },
 "nbformat": 4,
 "nbformat_minor": 5
}
